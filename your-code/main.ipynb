{
 "cells": [
  {
   "cell_type": "markdown",
   "metadata": {},
   "source": [
    "# Intrduction to NumPy\n",
    "\n",
    "\n",
    "#### 1. Import NumPy under the name np."
   ]
  },
  {
   "cell_type": "code",
   "execution_count": 1,
   "metadata": {},
   "outputs": [],
   "source": [
    "# your code here\n",
    "import numpy as np"
   ]
  },
  {
   "cell_type": "markdown",
   "metadata": {},
   "source": [
    "#### 2. Print your NumPy version."
   ]
  },
  {
   "cell_type": "code",
   "execution_count": 2,
   "metadata": {},
   "outputs": [
    {
     "name": "stdout",
     "output_type": "stream",
     "text": [
      "1.21.5\n"
     ]
    }
   ],
   "source": [
    "# your code here\n",
    "print(np.__version__)"
   ]
  },
  {
   "cell_type": "markdown",
   "metadata": {},
   "source": [
    "#### 3. Generate a 2x3x5 3-dimensional array with random values. Assign the array to variable *a*.\n",
    "**Challenge**: there are at least three easy ways that use numpy to generate random arrays. How many ways can you find?"
   ]
  },
  {
   "cell_type": "code",
   "execution_count": 3,
   "metadata": {},
   "outputs": [],
   "source": [
    "a = np.random.randint(0,100, size = (2, 3, 5))"
   ]
  },
  {
   "cell_type": "code",
   "execution_count": 4,
   "metadata": {},
   "outputs": [],
   "source": [
    "a = np.random.random(size = (3,5))"
   ]
  },
  {
   "cell_type": "code",
   "execution_count": 5,
   "metadata": {},
   "outputs": [],
   "source": [
    "c = np.random.random_sample(5)"
   ]
  },
  {
   "cell_type": "markdown",
   "metadata": {},
   "source": [
    "#### 4. Print *a*.\n"
   ]
  },
  {
   "cell_type": "code",
   "execution_count": 6,
   "metadata": {},
   "outputs": [
    {
     "data": {
      "text/plain": [
       "array([[0.44458897, 0.67811475, 0.8902734 , 0.72689935, 0.76244942],\n",
       "       [0.98720331, 0.97638523, 0.6867897 , 0.53243629, 0.52401953],\n",
       "       [0.74181821, 0.08895457, 0.89644935, 0.27694139, 0.15833334]])"
      ]
     },
     "execution_count": 6,
     "metadata": {},
     "output_type": "execute_result"
    }
   ],
   "source": [
    "# your code here\n",
    "a"
   ]
  },
  {
   "cell_type": "markdown",
   "metadata": {},
   "source": [
    "#### 5. Create a 5x2x3 3-dimensional array with all values equaling 1. Assign the array to variable *b*."
   ]
  },
  {
   "cell_type": "code",
   "execution_count": 7,
   "metadata": {},
   "outputs": [],
   "source": [
    "b = np.ones((5,2,3),dtype = int)"
   ]
  },
  {
   "cell_type": "markdown",
   "metadata": {},
   "source": [
    "#### 6. Print *b*.\n"
   ]
  },
  {
   "cell_type": "code",
   "execution_count": 8,
   "metadata": {},
   "outputs": [
    {
     "data": {
      "text/plain": [
       "array([[[1, 1, 1],\n",
       "        [1, 1, 1]],\n",
       "\n",
       "       [[1, 1, 1],\n",
       "        [1, 1, 1]],\n",
       "\n",
       "       [[1, 1, 1],\n",
       "        [1, 1, 1]],\n",
       "\n",
       "       [[1, 1, 1],\n",
       "        [1, 1, 1]],\n",
       "\n",
       "       [[1, 1, 1],\n",
       "        [1, 1, 1]]])"
      ]
     },
     "execution_count": 8,
     "metadata": {},
     "output_type": "execute_result"
    }
   ],
   "source": [
    "b"
   ]
  },
  {
   "cell_type": "markdown",
   "metadata": {},
   "source": [
    "#### 7. Do *a* and *b* have the same size? How do you prove that in Python code?"
   ]
  },
  {
   "cell_type": "code",
   "execution_count": 9,
   "metadata": {},
   "outputs": [
    {
     "name": "stdout",
     "output_type": "stream",
     "text": [
      "15\n",
      "30\n"
     ]
    }
   ],
   "source": [
    "print(np.size(a))\n",
    "print(np.size(b))"
   ]
  },
  {
   "cell_type": "markdown",
   "metadata": {},
   "source": [
    "#### 8. Are you able to add *a* and *b*? Why or why not?\n"
   ]
  },
  {
   "cell_type": "code",
   "execution_count": 10,
   "metadata": {},
   "outputs": [
    {
     "data": {
      "text/plain": [
       "array([0.44458897, 0.67811475, 0.8902734 , 0.72689935, 0.76244942,\n",
       "       0.98720331, 0.97638523, 0.6867897 , 0.53243629, 0.52401953,\n",
       "       0.74181821, 0.08895457, 0.89644935, 0.27694139, 0.15833334,\n",
       "       3.        ])"
      ]
     },
     "execution_count": 10,
     "metadata": {},
     "output_type": "execute_result"
    }
   ],
   "source": [
    "#You can't add to the array, but you can change it. The only wat to add to arrays would be creating a new one and using the append function.\n",
    "\n",
    "arr1_ = np.append(a, 3)\n",
    "arr1_"
   ]
  },
  {
   "cell_type": "markdown",
   "metadata": {},
   "source": [
    "#### 9. Transpose *b* so that it has the same structure of *a* (i.e. become a 2x3x5 array). Assign the transposed array to variable *c*."
   ]
  },
  {
   "cell_type": "code",
   "execution_count": 11,
   "metadata": {},
   "outputs": [
    {
     "data": {
      "text/plain": [
       "(3, 5)"
      ]
     },
     "execution_count": 11,
     "metadata": {},
     "output_type": "execute_result"
    }
   ],
   "source": [
    "a.shape"
   ]
  },
  {
   "cell_type": "code",
   "execution_count": 25,
   "metadata": {},
   "outputs": [
    {
     "data": {
      "text/plain": [
       "array([[[1, 1, 1, 1, 1],\n",
       "        [1, 1, 1, 1, 1]],\n",
       "\n",
       "       [[1, 1, 1, 1, 1],\n",
       "        [1, 1, 1, 1, 1]],\n",
       "\n",
       "       [[1, 1, 1, 1, 1],\n",
       "        [1, 1, 1, 1, 1]]])"
      ]
     },
     "execution_count": 25,
     "metadata": {},
     "output_type": "execute_result"
    }
   ],
   "source": [
    "b.transpose()"
   ]
  },
  {
   "cell_type": "code",
   "execution_count": 26,
   "metadata": {},
   "outputs": [],
   "source": [
    "c = b.reshape(2,3,5)"
   ]
  },
  {
   "cell_type": "markdown",
   "metadata": {},
   "source": [
    "#### 10. Try to add *a* and *c*. Now it should work. Assign the sum to variable *d*. But why does it work now?"
   ]
  },
  {
   "cell_type": "code",
   "execution_count": 27,
   "metadata": {},
   "outputs": [
    {
     "data": {
      "text/plain": [
       "array([[[1.44458897, 1.67811475, 1.8902734 , 1.72689935, 1.76244942],\n",
       "        [1.98720331, 1.97638523, 1.6867897 , 1.53243629, 1.52401953],\n",
       "        [1.74181821, 1.08895457, 1.89644935, 1.27694139, 1.15833334]],\n",
       "\n",
       "       [[1.44458897, 1.67811475, 1.8902734 , 1.72689935, 1.76244942],\n",
       "        [1.98720331, 1.97638523, 1.6867897 , 1.53243629, 1.52401953],\n",
       "        [1.74181821, 1.08895457, 1.89644935, 1.27694139, 1.15833334]]])"
      ]
     },
     "execution_count": 27,
     "metadata": {},
     "output_type": "execute_result"
    }
   ],
   "source": [
    "d = a + c\n",
    "d\n",
    "\n",
    "#It didn't work previously bcause the arrays had different shapes and you can't sum arrays that have different shapes. Now they were similar and it was possible."
   ]
  },
  {
   "cell_type": "markdown",
   "metadata": {},
   "source": [
    "#### 11. Print *a* and *d*. Notice the difference and relation of the two array in terms of the values? Explain."
   ]
  },
  {
   "cell_type": "code",
   "execution_count": 28,
   "metadata": {},
   "outputs": [
    {
     "name": "stdout",
     "output_type": "stream",
     "text": [
      "[[0.44458897 0.67811475 0.8902734  0.72689935 0.76244942]\n",
      " [0.98720331 0.97638523 0.6867897  0.53243629 0.52401953]\n",
      " [0.74181821 0.08895457 0.89644935 0.27694139 0.15833334]]\n"
     ]
    }
   ],
   "source": [
    "print(a)"
   ]
  },
  {
   "cell_type": "code",
   "execution_count": 29,
   "metadata": {},
   "outputs": [
    {
     "name": "stdout",
     "output_type": "stream",
     "text": [
      "[[[1.44458897 1.67811475 1.8902734  1.72689935 1.76244942]\n",
      "  [1.98720331 1.97638523 1.6867897  1.53243629 1.52401953]\n",
      "  [1.74181821 1.08895457 1.89644935 1.27694139 1.15833334]]\n",
      "\n",
      " [[1.44458897 1.67811475 1.8902734  1.72689935 1.76244942]\n",
      "  [1.98720331 1.97638523 1.6867897  1.53243629 1.52401953]\n",
      "  [1.74181821 1.08895457 1.89644935 1.27694139 1.15833334]]]\n"
     ]
    }
   ],
   "source": [
    "print(d)"
   ]
  },
  {
   "cell_type": "code",
   "execution_count": 16,
   "metadata": {},
   "outputs": [],
   "source": [
    "#They're organized in the same way, they just possess different numbers of displayed values. d has more values."
   ]
  },
  {
   "cell_type": "markdown",
   "metadata": {},
   "source": [
    "#### 12. Multiply *a* and *c*. Assign the result to *e*."
   ]
  },
  {
   "cell_type": "code",
   "execution_count": 30,
   "metadata": {},
   "outputs": [
    {
     "data": {
      "text/plain": [
       "array([[[0.44458897, 0.67811475, 0.8902734 , 0.72689935, 0.76244942],\n",
       "        [0.98720331, 0.97638523, 0.6867897 , 0.53243629, 0.52401953],\n",
       "        [0.74181821, 0.08895457, 0.89644935, 0.27694139, 0.15833334]],\n",
       "\n",
       "       [[0.44458897, 0.67811475, 0.8902734 , 0.72689935, 0.76244942],\n",
       "        [0.98720331, 0.97638523, 0.6867897 , 0.53243629, 0.52401953],\n",
       "        [0.74181821, 0.08895457, 0.89644935, 0.27694139, 0.15833334]]])"
      ]
     },
     "execution_count": 30,
     "metadata": {},
     "output_type": "execute_result"
    }
   ],
   "source": [
    "e = a * c\n",
    "e"
   ]
  },
  {
   "cell_type": "markdown",
   "metadata": {},
   "source": [
    "#### 13. Does *e* equal to *a*? Why or why not?\n"
   ]
  },
  {
   "cell_type": "code",
   "execution_count": 18,
   "metadata": {},
   "outputs": [
    {
     "data": {
      "text/plain": [
       "array([[[0.44458897, 0.67811475, 0.8902734 , 0.72689935, 0.76244942],\n",
       "        [0.98720331, 0.97638523, 0.6867897 , 0.53243629, 0.52401953],\n",
       "        [0.74181821, 0.08895457, 0.89644935, 0.27694139, 0.15833334]],\n",
       "\n",
       "       [[0.44458897, 0.67811475, 0.8902734 , 0.72689935, 0.76244942],\n",
       "        [0.98720331, 0.97638523, 0.6867897 , 0.53243629, 0.52401953],\n",
       "        [0.74181821, 0.08895457, 0.89644935, 0.27694139, 0.15833334]]])"
      ]
     },
     "execution_count": 18,
     "metadata": {},
     "output_type": "execute_result"
    }
   ],
   "source": [
    "e"
   ]
  },
  {
   "cell_type": "code",
   "execution_count": 19,
   "metadata": {},
   "outputs": [
    {
     "data": {
      "text/plain": [
       "array([[0.44458897, 0.67811475, 0.8902734 , 0.72689935, 0.76244942],\n",
       "       [0.98720331, 0.97638523, 0.6867897 , 0.53243629, 0.52401953],\n",
       "       [0.74181821, 0.08895457, 0.89644935, 0.27694139, 0.15833334]])"
      ]
     },
     "execution_count": 19,
     "metadata": {},
     "output_type": "execute_result"
    }
   ],
   "source": [
    "a"
   ]
  },
  {
   "cell_type": "code",
   "execution_count": null,
   "metadata": {},
   "outputs": [],
   "source": [
    "# e has the same results as a but duplicated."
   ]
  },
  {
   "cell_type": "markdown",
   "metadata": {},
   "source": [
    "#### 14. Identify the max, min, and mean values in *d*. Assign those values to variables *d_max*, *d_min* and *d_mean*."
   ]
  },
  {
   "cell_type": "code",
   "execution_count": 31,
   "metadata": {},
   "outputs": [
    {
     "name": "stdout",
     "output_type": "stream",
     "text": [
      "1.987203308110419 1.0889545715053037 1.624777121667439\n"
     ]
    }
   ],
   "source": [
    "d_max = d.max()\n",
    "d_min = d.min()\n",
    "d_mean = d.mean()\n",
    "\n",
    "print(d_max, d_min, d_mean)"
   ]
  },
  {
   "cell_type": "markdown",
   "metadata": {},
   "source": [
    "#### 15. Now we want to label the values in *d*. First create an empty array *f* with the same shape (i.e. 2x3x5) as *d* using `np.empty`.\n"
   ]
  },
  {
   "cell_type": "code",
   "execution_count": 45,
   "metadata": {},
   "outputs": [
    {
     "data": {
      "text/plain": [
       "array([[[1.44458897, 1.67811475, 1.8902734 , 1.72689935, 1.76244942],\n",
       "        [1.98720331, 1.97638523, 1.6867897 , 1.53243629, 1.52401953],\n",
       "        [1.74181821, 1.08895457, 1.89644935, 1.27694139, 1.15833334]],\n",
       "\n",
       "       [[1.44458897, 1.67811475, 1.8902734 , 1.72689935, 1.76244942],\n",
       "        [1.98720331, 1.97638523, 1.6867897 , 1.53243629, 1.52401953],\n",
       "        [1.74181821, 1.08895457, 1.89644935, 1.27694139, 1.15833334]]])"
      ]
     },
     "execution_count": 45,
     "metadata": {},
     "output_type": "execute_result"
    }
   ],
   "source": [
    "f = np.empty([2,3,5])\n",
    "f"
   ]
  },
  {
   "cell_type": "markdown",
   "metadata": {},
   "source": [
    "#### 16. Populate the values in *f*. \n",
    "\n",
    "For each value in *d*, if it's larger than *d_min* but smaller than *d_mean*, assign 25 to the corresponding value in *f*. If a value in *d* is larger than *d_mean* but smaller than *d_max*, assign 75 to the corresponding value in *f*. If a value equals to *d_mean*, assign 50 to the corresponding value in *f*. Assign 0 to the corresponding value(s) in *f* for *d_min* in *d*. Assign 100 to the corresponding value(s) in *f* for *d_max* in *d*. In the end, f should have only the following values: 0, 25, 50, 75, and 100.\n",
    "\n",
    "**Note**: you don't have to use Numpy in this question."
   ]
  },
  {
   "cell_type": "code",
   "execution_count": 51,
   "metadata": {},
   "outputs": [
    {
     "data": {
      "text/plain": [
       "array([[[ 25.,  75.,  75.,  75.,  75.],\n",
       "        [100.,  75.,  75.,  25.,  25.],\n",
       "        [ 75.,   0.,  75.,  25.,  25.]],\n",
       "\n",
       "       [[ 25.,  75.,  75.,  75.,  75.],\n",
       "        [100.,  75.,  75.,  25.,  25.],\n",
       "        [ 75.,   0.,  75.,  25.,  25.]]])"
      ]
     },
     "execution_count": 51,
     "metadata": {},
     "output_type": "execute_result"
    }
   ],
   "source": [
    "for x, value_x in enumerate(d):\n",
    "    for y, value_y in enumerate(value_x):\n",
    "        for index, value in enumerate(value_y):\n",
    "            if value > d_min and value < d_mean:\n",
    "                value = 25\n",
    "                f[x][y][index] = value\n",
    "        \n",
    "            if value > d_mean and value < d_max:\n",
    "                value = 75\n",
    "                f[x][y][index] = value\n",
    "        \n",
    "            if value == d_mean:\n",
    "                value = 50\n",
    "                f[x][y][index] = value\n",
    "        \n",
    "            if value == d_min:\n",
    "                value = 0\n",
    "                f[x][y][index] = value\n",
    "        \n",
    "            if value == d_max:\n",
    "                value = 100\n",
    "                f[x][y][index] = value\n",
    "\n",
    "f"
   ]
  },
  {
   "cell_type": "markdown",
   "metadata": {},
   "source": [
    "#### 17. Print *d* and *f*. Do you have your expected *f*?\n",
    "For instance, if your *d* is:\n",
    "```python\n",
    "[[[1.85836099, 1.67064465, 1.62576044, 1.40243961, 1.88454931],\n",
    "[1.75354326, 1.69403643, 1.36729252, 1.61415071, 1.12104981],\n",
    "[1.72201435, 1.1862918 , 1.87078449, 1.7726778 , 1.88180042]],\n",
    "[[1.44747908, 1.31673383, 1.02000951, 1.52218947, 1.97066381],\n",
    "[1.79129243, 1.74983003, 1.96028037, 1.85166831, 1.65450881],\n",
    "[1.18068344, 1.9587381 , 1.00656599, 1.93402165, 1.73514584]]]\n",
    "```\n",
    "Your *f* should be:\n",
    "```python\n",
    "[[[ 75.,  75.,  75.,  25.,  75.],\n",
    "[ 75.,  75.,  25.,  25.,  25.],\n",
    "[ 75.,  25.,  75.,  75.,  75.]],\n",
    "[[ 25.,  25.,  25.,  25., 100.],\n",
    "[ 75.,  75.,  75.,  75.,  75.],\n",
    "[ 25.,  75.,   0.,  75.,  75.]]]\n",
    "```"
   ]
  },
  {
   "cell_type": "code",
   "execution_count": 54,
   "metadata": {},
   "outputs": [
    {
     "name": "stdout",
     "output_type": "stream",
     "text": [
      "[[[1.44458897 1.67811475 1.8902734  1.72689935 1.76244942]\n",
      "  [1.98720331 1.97638523 1.6867897  1.53243629 1.52401953]\n",
      "  [1.74181821 1.08895457 1.89644935 1.27694139 1.15833334]]\n",
      "\n",
      " [[1.44458897 1.67811475 1.8902734  1.72689935 1.76244942]\n",
      "  [1.98720331 1.97638523 1.6867897  1.53243629 1.52401953]\n",
      "  [1.74181821 1.08895457 1.89644935 1.27694139 1.15833334]]]\n",
      "[[[ 25.  75.  75.  75.  75.]\n",
      "  [100.  75.  75.  25.  25.]\n",
      "  [ 75.   0.  75.  25.  25.]]\n",
      "\n",
      " [[ 25.  75.  75.  75.  75.]\n",
      "  [100.  75.  75.  25.  25.]\n",
      "  [ 75.   0.  75.  25.  25.]]]\n"
     ]
    }
   ],
   "source": [
    "print(d)\n",
    "print(f) \n",
    "\n",
    "# max // 1.987203308110419 || min // 1.0889545715053037 || mean // 1.624777121667439\n",
    "# all good yeah"
   ]
  }
 ],
 "metadata": {
  "kernelspec": {
   "display_name": "Python 3.9.12 ('base')",
   "language": "python",
   "name": "python3"
  },
  "language_info": {
   "codemirror_mode": {
    "name": "ipython",
    "version": 3
   },
   "file_extension": ".py",
   "mimetype": "text/x-python",
   "name": "python",
   "nbconvert_exporter": "python",
   "pygments_lexer": "ipython3",
   "version": "3.9.12"
  },
  "vscode": {
   "interpreter": {
    "hash": "b2a2b8698d3474f38e9a1ba9d54ec85347e811d97918b8fc315ec0c82e60adc7"
   }
  }
 },
 "nbformat": 4,
 "nbformat_minor": 2
}
